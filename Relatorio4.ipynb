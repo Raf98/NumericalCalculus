{
  "nbformat": 4,
  "nbformat_minor": 0,
  "metadata": {
    "colab": {
      "name": "Relatorio4_RafaelSantos.ipynb",
      "provenance": [],
      "collapsed_sections": []
    },
    "kernelspec": {
      "name": "python3",
      "display_name": "Python 3"
    }
  },
  "cells": [
    {
      "cell_type": "markdown",
      "metadata": {
        "id": "9UrXwMDAeDNG"
      },
      "source": [
        "#Bibliotecas\n"
      ]
    },
    {
      "cell_type": "code",
      "metadata": {
        "id": "fi0lgc97d_eS"
      },
      "source": [
        "#Bibliotecas Aqui!\n",
        "import math\n",
        "from termcolor import colored, cprint\n",
        "import scipy.integrate as integrate"
      ],
      "execution_count": null,
      "outputs": []
    },
    {
      "cell_type": "markdown",
      "metadata": {
        "id": "Y9rV5pFKeYFc"
      },
      "source": [
        "# Métodos"
      ]
    },
    {
      "cell_type": "code",
      "metadata": {
        "id": "Zw2GloPAeVe5"
      },
      "source": [
        "#Métodos Aqui!"
      ],
      "execution_count": null,
      "outputs": []
    },
    {
      "cell_type": "code",
      "metadata": {
        "id": "CwyfD0nFNuX_"
      },
      "source": [
        "def pythonIntegral(f, min, max):\n",
        "  return integrate.quad(f, min, max)[0]\n",
        "\n",
        "def trapezoidalRule(n, min, max, f):\n",
        "  sum = f(0)\n",
        "  h = (max - min)/n\n",
        "  i = h\n",
        "  \n",
        "  while (i < max):\n",
        "    sum += 2*f(i)\n",
        "    i += h\n",
        "\n",
        "  sum += f(i)\n",
        "  \n",
        "  result = (h/2)*sum\n",
        "  return result\n",
        "\n",
        "\n",
        "def simpson13(n, min, max, f):\n",
        "  sum = f(0)\n",
        "  h = (max - min)/n\n",
        "  i = h\n",
        "\n",
        "  while (i < max-h):\n",
        "    sum += 4*f(i) + 2*f(i+h)\n",
        "    i += 2*h\n",
        "  \n",
        "  sum += 4*f(i) + f(i+h)\n",
        "  \n",
        "  result = (h/3)*sum\n",
        "  return result\n",
        "\n",
        "\n",
        "def simpson38(n, min, max, f):\n",
        "  h = (max - min)/n\n",
        "\n",
        "  sum = f(max - 3*h) + 3 * ( f(max - 2*h) + f(max - h) ) + f(max)\n",
        "  result = ((3*h)/8) * sum\n",
        "\n",
        "  n -= 3\n",
        "\n",
        "  if (n > 1):\n",
        "    result += simpson13(n-1, min, max - 4*h, f)\n",
        "  \n",
        "  return result\n",
        "\n",
        "\n",
        "def relativePercentualError(analyticalValue, estimatedValue):\n",
        "  return math.fabs( ((analyticalValue - estimatedValue)/estimatedValue)*100 )\n",
        "\n",
        "\n",
        "def centeredDifferentiation2(h, x, y):\n",
        "  firstDerivative = (y(x+h) - y(x-h))/(2*h)\n",
        "  secondDerivative = (y(x+h) - 2*y(x) + y(x-h))/(h**2)\n",
        "\n",
        "  return firstDerivative, secondDerivative\n",
        "\n",
        "\n",
        "def centeredDifferentiation4(h, x, y):\n",
        "  firstDerivative = (-y(x+2*h) + 8*y(x+h) - 8*y(x-h) + y(x-2*h))/(12*h)\n",
        "  secondDerivative = (-y(x+2*h) + 16*y(x+h) - 30*y(x) + 16*y(x-h) - y(x-2*h))/(12*h**2)\n",
        "\n",
        "  return firstDerivative, secondDerivative\n",
        "\n",
        "\n",
        "def printTitle(title):\n",
        "  print(colored(title, 'yellow', attrs=['bold'])) \n",
        "\n",
        "\n",
        "def printItem(item):\n",
        "  print(colored(item, 'green'))\n",
        "\n"
      ],
      "execution_count": null,
      "outputs": []
    },
    {
      "cell_type": "markdown",
      "metadata": {
        "id": "1wje0dmreLpQ"
      },
      "source": [
        "# Lista de Exercício 5\n",
        "\n",
        "\n"
      ]
    },
    {
      "cell_type": "markdown",
      "metadata": {
        "id": "ySK8ByuPeLAD"
      },
      "source": [
        "##Questão 1 – Calcule a seguinte integral:\n",
        "\n",
        "![image.png](data:image/png;base64,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)\n",
        "\n",
        "1. analiticamente\n",
        "2. por uma única aplicação da regra do Trapézio\n",
        "3. por aplicações múltiplas da regra do Trapézio, com n = 2 e 4;\n",
        "4. uma única aplicação da regra 1/3 de Simpson;\n",
        "5. aplicação múltipla da regra 1/3 de Simpson, com n = 4; \n",
        "6. uma única aplicação da regra 3/8 de Simpson;\n",
        "7. aplicação múltipla da regra 3/8 de Simpson, com n = 5. \n",
        "\n",
        "\n",
        "Para cada estimativa numérica de (b) a (g), determine o erro relativo percentual com base em (a).\n",
        "\n"
      ]
    },
    {
      "cell_type": "code",
      "metadata": {
        "id": "PnVmpjipefiX",
        "colab": {
          "base_uri": "https://localhost:8080/"
        },
        "outputId": "1f28fb81-07e3-4d64-a83b-9b30d6f8121c"
      },
      "source": [
        "f = lambda x: (8 + 4*(math.sin(x)))\n",
        "min = 0\n",
        "max = math.pi/2\n",
        "\n",
        "#analyticalValue = 4*(math.pi + 1)\n",
        "analyticalValue = pythonIntegral(f, min, max)\n",
        "printItem(\"Valor do cálculo da integral analiticamente(a): \" + str (analyticalValue))\n",
        "\n",
        "printTitle(\"\\n(b) Regra do Trapézio\")\n",
        "result = trapezoidalRule(1, min, max, f)\n",
        "printItem(\"Resultado: %10.5f\" % result)\n",
        "printItem(\"Erro: %14.5f\" % (relativePercentualError(analyticalValue, result)) + \" %\")\n",
        "\n",
        "\n",
        "\n",
        "printTitle(\"\\n(c) Regra do Trapézio; n=2\")\n",
        "result = trapezoidalRule(2, min, max, f)\n",
        "printItem(\"Resultado: %10.5f\" % result)\n",
        "printItem(\"Erro: %14.5f\" % (relativePercentualError(analyticalValue, result)) + \" %\")\n",
        "\n",
        "\n",
        "\n",
        "printTitle(\"\\n(c) Regra do Trapézio; n=4\")\n",
        "result = trapezoidalRule(4, min, max, f)\n",
        "printItem(\"Resultado: %10.5f\" % result)\n",
        "printItem(\"Erro: %14.5f\" % (relativePercentualError(analyticalValue, result)) + \" %\")\n",
        "\n",
        "\n",
        "\n",
        "printTitle(\"\\n(d) Regra 1/3 de Simpson\")\n",
        "result = simpson13(2, min, max, f)\n",
        "printItem(\"Resultado: %10.5f\" % result)\n",
        "printItem(\"Erro: %14.5f\" % (relativePercentualError(analyticalValue, result)) + \" %\")\n",
        "\n",
        "\n",
        "\n",
        "printTitle(\"\\n(e) Regra 1/3 de Simpson; n=4\")\n",
        "result = simpson13(4, min, max, f)\n",
        "printItem(\"Resultado: %10.5f\" % result)\n",
        "printItem(\"Erro: %14.5f\" % (relativePercentualError(analyticalValue, result)) + \" %\")\n",
        "\n",
        "\n",
        "\n",
        "printTitle(\"\\n(f) Regra 3/8 de Simpson\")\n",
        "result = simpson38(3, min, max, f)\n",
        "printItem(\"Resultado: %10.5f\" % result)\n",
        "printItem(\"Erro: %14.5f\" % (relativePercentualError(analyticalValue, result)) + \" %\")\n",
        "\n",
        "\n",
        "printTitle(\"\\n(g) Regra 3/8 de Simpson; n=5\")\n",
        "result = simpson38(5, min, max, f)\n",
        "printItem(\"Resultado: %10.5f\" % result)\n",
        "printItem(\"Erro: %14.5f\" % (relativePercentualError(analyticalValue, result)) + \" %\")\n",
        "\n"
      ],
      "execution_count": null,
      "outputs": [
        {
          "output_type": "stream",
          "text": [
            "\u001b[32mValor do cálculo da integral analiticamente(a): 16.56637061435917\u001b[0m\n",
            "\u001b[1m\u001b[33m\n",
            "(b) Regra do Trapézio\u001b[0m\n",
            "\u001b[32mResultado:   15.70796\u001b[0m\n",
            "\u001b[32mErro:        5.46479 %\u001b[0m\n",
            "\u001b[1m\u001b[33m\n",
            "(c) Regra do Trapézio; n=2\u001b[0m\n",
            "\u001b[32mResultado:   16.35861\u001b[0m\n",
            "\u001b[32mErro:        1.27005 %\u001b[0m\n",
            "\u001b[1m\u001b[33m\n",
            "(c) Regra do Trapézio; n=4\u001b[0m\n",
            "\u001b[32mResultado:   16.51483\u001b[0m\n",
            "\u001b[32mErro:        0.31206 %\u001b[0m\n",
            "\u001b[1m\u001b[33m\n",
            "(d) Regra 1/3 de Simpson\u001b[0m\n",
            "\u001b[32mResultado:   16.57549\u001b[0m\n",
            "\u001b[32mErro:        0.05502 %\u001b[0m\n",
            "\u001b[1m\u001b[33m\n",
            "(e) Regra 1/3 de Simpson; n=4\u001b[0m\n",
            "\u001b[32mResultado:   16.56691\u001b[0m\n",
            "\u001b[32mErro:        0.00325 %\u001b[0m\n",
            "\u001b[1m\u001b[33m\n",
            "(f) Regra 3/8 de Simpson\u001b[0m\n",
            "\u001b[32mResultado:   16.57039\u001b[0m\n",
            "\u001b[32mErro:        0.02426 %\u001b[0m\n",
            "\u001b[1m\u001b[33m\n",
            "(g) Regra 3/8 de Simpson; n=5\u001b[0m\n",
            "\u001b[32mResultado:   16.56682\u001b[0m\n",
            "\u001b[32mErro:        0.00269 %\u001b[0m\n"
          ],
          "name": "stdout"
        }
      ]
    },
    {
      "cell_type": "markdown",
      "metadata": {
        "id": "8uT9d-NJmsSu"
      },
      "source": [
        "Como podemos observar pela porcentagem de erros para cada um dos métodos, todos parecem ter performado relativamente bem, obtendo valores próximos ao valor real/ obtido por integração analítica, com um erro máximo  menor a 5,5% no pior dos casos para os métodos aplicados.\n",
        "\n",
        "Além do mais é notável que, para a integral aqui utilizada, um número maior de passos para todos os métodos aplicados(trapézio, Simpson 1/3 e Simpson 3/8) resultou em erros percentuais menores em relação ao resultado da integral obtido analiticamente, com o maior erro sendo encontrado na aplicação de um passo apenas na regra do trapézio."
      ]
    },
    {
      "cell_type": "markdown",
      "metadata": {
        "id": "CQ_E_Y1lesyJ"
      },
      "source": [
        "##Questão 2 – Use aproximações por diferenças centradas para obter estimativas para a primeira e a segunda derivadas de y = e^x em x = 2 para h = 0,1. Empregue tanto fórmulas de ordem de O(h^2) como de ordem O(h^4) para suas estimativas. "
      ]
    },
    {
      "cell_type": "code",
      "metadata": {
        "id": "r1_8Lvsl3OL3",
        "colab": {
          "base_uri": "https://localhost:8080/"
        },
        "outputId": "70073f28-fc95-4b40-a55d-24595a386947"
      },
      "source": [
        "y = lambda x : math.exp(x)\n",
        "x = 2;\n",
        "h = 0.1\n",
        "\n",
        "printItem(\"Primeira derivada: %10.5f\" % math.exp(2))\n",
        "printItem(\"Segunda derivada: %11.5f\" % math.exp(2))\n",
        "\n",
        "\n",
        "firstD, secondD = centeredDifferentiation2(h, x, y)\n",
        "printItem(\"\\n\\nEstimativa da primeira derivada; O(H²): %10.5f\" % (firstD))\n",
        "printItem(\"Estimativa da segunda derivada; O(H²): %11.5f\" % (secondD))\n",
        "\n",
        "firstD, secondD = centeredDifferentiation4(h, x, y)\n",
        "printItem(\"\\n\\nEstimativa da primeira derivada; O(H⁴): %10.5f\" % (firstD))\n",
        "printItem(\"Estimativa da segunda derivada; O(H⁴): %11.5f\" % (secondD))"
      ],
      "execution_count": null,
      "outputs": [
        {
          "output_type": "stream",
          "text": [
            "\u001b[32mPrimeira derivada:    7.38906\u001b[0m\n",
            "\u001b[32mSegunda derivada:     7.38906\u001b[0m\n",
            "\u001b[32m\n",
            "\n",
            "Estimativa da primeira derivada; O(H²):    7.40138\u001b[0m\n",
            "\u001b[32mEstimativa da segunda derivada; O(H²):     7.39522\u001b[0m\n",
            "\u001b[32m\n",
            "\n",
            "Estimativa da primeira derivada; O(H⁴):    7.38903\u001b[0m\n",
            "\u001b[32mEstimativa da segunda derivada; O(H⁴):     7.38905\u001b[0m\n"
          ],
          "name": "stdout"
        }
      ]
    },
    {
      "cell_type": "markdown",
      "metadata": {
        "id": "yda6IHGcoBMm"
      },
      "source": [
        "Ao aplicar aproximações por diferenças centradas para obter estimativas para a primeira e a segunda derivadas de e^x também obtivemos resultados satisfatórios, tanto ao aplicar fórmulas de ordem O(h²) quanto de ordem O(h⁴) para as estimativas, sendo os valores obtidos ao aplicar fórmulas de ordem O(h⁴) mais próximos do resultado real da derivada de e^x(cuja derivada é e^x e, portanto, igual para ambas primeira e segunda derivadas) que os valores obtidos com fórmulas de O(h²), como era esperado, visto que, como o tamanho do passo h é menor que 1 e as estimativas de erros são proporcionais ao argumento de O(), h⁴ será menor que h² por se tratar de um número maior de multiplicações de um h menor que 1 por ele mesmo, i.e., teremos uma estimativa de erro menor em h⁴ que em h², no melhor dos casos.\n",
        "\n",
        "Sendo os valores da primeira e da segunda derivada iguais na teoria, pois a derivada de e^x é e^x, também é possível observar que, a medida em que aplicamos derivadas de maior ordem a y, mais próximo fica o valor estimado pela aproximação por diferenças centradas do valor real de e^x."
      ]
    }
  ]
}